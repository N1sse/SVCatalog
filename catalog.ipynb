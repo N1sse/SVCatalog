{
 "cells": [
  {
   "cell_type": "code",
   "execution_count": 8,
   "id": "728913e4",
   "metadata": {},
   "outputs": [],
   "source": [
    "from pymongo import MongoClient #para importar mongo\n",
    "from pprint import pprint   #para hacer la impresion bonita"
   ]
  },
  {
   "cell_type": "code",
   "execution_count": 9,
   "id": "3f6be2be",
   "metadata": {},
   "outputs": [],
   "source": [
    "clients = MongoClient(\"mongodb://localhost:27017/\")\n",
    "\n",
    "db = clients[\"SVCatalog\"]\n",
    "\n",
    "collection = db[\"villagers\"]\n",
    "collection02 = db[\"catchables\"]\n",
    "collection03 = db[\"legendaryPrice\"]\n",
    "collection04 = db[\"legendaryDetails\"]"
   ]
  },
  {
   "cell_type": "code",
   "execution_count": 10,
   "id": "fe69e167",
   "metadata": {},
   "outputs": [
    {
     "name": "stdout",
     "output_type": "stream",
     "text": [
      "{'Base XP': 170,\n",
      " 'Description': 'Lives deep in the ocean but likes to lay its eggs in the warm '\n",
      "                'summer water.',\n",
      " 'Difficulty & Behavior': '95 mixed',\n",
      " 'Location': 'East Pier on The Beach. Requires level 5 fishing.',\n",
      " 'Name': 'Crimsonfish',\n",
      " 'Season': 'Summer',\n",
      " 'Size (inches)': '19-21',\n",
      " 'Time': 'Any',\n",
      " 'Weather': 'Any',\n",
      " '_id': ObjectId('68577549ca7834a683dcacd2')}\n",
      "{'Base XP': 155,\n",
      " 'Description': 'Uses a bioluminescent dangler to attract prey.',\n",
      " 'Difficulty & Behavior': '85 smooth',\n",
      " 'Location': 'North of JojaMart on the wooden plank bridge. Requires level 3 '\n",
      "             'fishing.',\n",
      " 'Name': 'Angler',\n",
      " 'Season': 'Fall',\n",
      " 'Size (inches)': '17-19',\n",
      " 'Time': 'Any',\n",
      " 'Weather': 'Any',\n",
      " '_id': ObjectId('68577549ca7834a683dcacd3')}\n",
      "{'Base XP': 195,\n",
      " 'Description': \"The king of all fish! They said he'd never be caught.\",\n",
      " 'Difficulty & Behavior': '110 mixed',\n",
      " 'Location': 'The Mountain Lake near the log. Requires level 10 fishing.',\n",
      " 'Name': 'Legend',\n",
      " 'Season': 'Spring',\n",
      " 'Size (inches)': '49-51',\n",
      " 'Time': 'Any',\n",
      " 'Weather': 'Rain',\n",
      " '_id': ObjectId('68577549ca7834a683dcacd4')}\n",
      "{'Base XP': 180,\n",
      " 'Description': 'Builds a nest on the underside of glaciers.',\n",
      " 'Difficulty & Behavior': '100 mixed',\n",
      " 'Location': 'South end of Arrowhead Island in Cindersap Forest. Requires '\n",
      "             'level 6 fishing.',\n",
      " 'Name': 'Glacierfish',\n",
      " 'Season': 'Winter',\n",
      " 'Size (inches)': '26-28',\n",
      " 'Time': 'Any',\n",
      " 'Weather': 'Any',\n",
      " '_id': ObjectId('68577549ca7834a683dcacd5')}\n",
      "{'Base XP': 145,\n",
      " 'Description': 'The strange waters of the sewer turned this carp into a '\n",
      "                'monstrosity.',\n",
      " 'Difficulty & Behavior': '80 dart',\n",
      " 'Location': 'The Sewers',\n",
      " 'Name': 'Mutant Carp',\n",
      " 'Season': 'All Seasons',\n",
      " 'Size (inches)': '35-37',\n",
      " 'Time': 'Any',\n",
      " 'Weather': 'Any',\n",
      " '_id': ObjectId('68577549ca7834a683dcacd6')}\n",
      "{'Base XP': 200,\n",
      " 'Description': 'A fish that can live for 100 years. It is said to have been '\n",
      "                'around since the time of the dinosaurs.',\n",
      " 'Difficulty & Behavior': '100 mixed',\n",
      " 'Location': 'Depths of the coast of eastern africa',\n",
      " 'Name': 'coelacanth',\n",
      " 'Season': 'All Seasons',\n",
      " 'Size (inches)': '59-71',\n",
      " 'Time': 'Night',\n",
      " 'Weather': 'Any',\n",
      " '_id': ObjectId('68577fff8cb39478e304f701')}\n"
     ]
    }
   ],
   "source": [
    "probarConexion  = collection04.find()\n",
    "for test in probarConexion: pprint(test)"
   ]
  },
  {
   "cell_type": "code",
   "execution_count": 11,
   "id": "e4a6a510",
   "metadata": {},
   "outputs": [
    {
     "name": "stdout",
     "output_type": "stream",
     "text": [
      "{'Angler': '900g',\n",
      " 'Crimsonfish': '1,500g',\n",
      " 'Glacierfish': '1,000g',\n",
      " 'Legend': '5,000g',\n",
      " 'Mutant Carp': '1,000g',\n",
      " 'Name': 'Base Price',\n",
      " '_id': ObjectId('68577550ca7834a683dcacd8')}\n",
      "{'Angler': '1,125g',\n",
      " 'Crimsonfish': '1,875g',\n",
      " 'Glacierfish': '1,250g',\n",
      " 'Legend': '6,250g',\n",
      " 'Mutant Carp': '1,250g',\n",
      " 'Name': 'BP Silver',\n",
      " '_id': ObjectId('68577550ca7834a683dcacd9')}\n",
      "{'Angler': '1,350g',\n",
      " 'Crimsonfish': '2,250g',\n",
      " 'Glacierfish': '1,500g',\n",
      " 'Legend': '7,500g',\n",
      " 'Mutant Carp': '1,500g',\n",
      " 'Name': 'BP Gold',\n",
      " '_id': ObjectId('68577550ca7834a683dcacda')}\n",
      "{'Angler': '1,800g',\n",
      " 'Crimsonfish': '3,000g',\n",
      " 'Glacierfish': '2,000g',\n",
      " 'Legend': '10,000g',\n",
      " 'Mutant Carp': '2,000g',\n",
      " 'Name': 'BP Irridium',\n",
      " '_id': ObjectId('68577550ca7834a683dcacdb')}\n",
      "{'Angler': '1,350g',\n",
      " 'Crimsonfish': '2,250g',\n",
      " 'Glacierfish': '1,500g',\n",
      " 'Legend': '7,500g',\n",
      " 'Mutant Carp': '1,500g',\n",
      " 'Name': 'Fisher Profession (+25%)',\n",
      " '_id': ObjectId('68577550ca7834a683dcacdc')}\n",
      "{'Angler': '1,687g',\n",
      " 'Crimsonfish': '2,812g',\n",
      " 'Glacierfish': '1,875g',\n",
      " 'Legend': '9,375g',\n",
      " 'Mutant Carp': '1,875g',\n",
      " 'Name': 'FP Silver',\n",
      " '_id': ObjectId('68577550ca7834a683dcacdd')}\n",
      "{'Angler': '2,025g',\n",
      " 'Crimsonfish': '3,375g',\n",
      " 'Glacierfish': '2,250g',\n",
      " 'Legend': '11,250g',\n",
      " 'Mutant Carp': '2,250g',\n",
      " 'Name': 'FP Gold',\n",
      " '_id': ObjectId('68577550ca7834a683dcacde')}\n",
      "{'Angler': '2,700g',\n",
      " 'Crimsonfish': '4,500g',\n",
      " 'Glacierfish': '3,000g',\n",
      " 'Legend': '15,000g',\n",
      " 'Mutant Carp': '3,000g',\n",
      " 'Name': 'FP Irridium',\n",
      " '_id': ObjectId('68577550ca7834a683dcacdf')}\n",
      "{'Angler': '1,125g',\n",
      " 'Crimsonfish': '1,875g',\n",
      " 'Glacierfish': '1,250g',\n",
      " 'Legend': '6,250g',\n",
      " 'Mutant Carp': '1,250g',\n",
      " 'Name': 'Angler Profession (+50%)',\n",
      " '_id': ObjectId('68577550ca7834a683dcace0')}\n",
      "{'Angler': '1,406g',\n",
      " 'Crimsonfish': '2,343g',\n",
      " 'Glacierfish': '1,562g',\n",
      " 'Legend': '7,812g',\n",
      " 'Mutant Carp': '1,562g',\n",
      " 'Name': 'AP Silver',\n",
      " '_id': ObjectId('68577550ca7834a683dcace1')}\n",
      "{'Angler': '1,687g',\n",
      " 'Crimsonfish': '2,812g',\n",
      " 'Glacierfish': '1,875g',\n",
      " 'Legend': '9,375g',\n",
      " 'Mutant Carp': '1,875g',\n",
      " 'Name': 'AP Gold',\n",
      " '_id': ObjectId('68577550ca7834a683dcace2')}\n",
      "{'Angler': '2,250g',\n",
      " 'Crimsonfish': '3,750g',\n",
      " 'Glacierfish': '2,500g',\n",
      " 'Legend': '12,500g',\n",
      " 'Mutant Carp': '2,500g',\n",
      " 'Name': 'AP Irridium',\n",
      " '_id': ObjectId('68577550ca7834a683dcace3')}\n"
     ]
    }
   ],
   "source": [
    "probarConexion02  = collection03.find()\n",
    "for test in probarConexion02: pprint(test)"
   ]
  },
  {
   "cell_type": "code",
   "execution_count": 20,
   "id": "663025ef",
   "metadata": {},
   "outputs": [
    {
     "name": "stdout",
     "output_type": "stream",
     "text": [
      "Nuevo dato insertado con ID: 685781f48cb39478e304f70a\n"
     ]
    }
   ],
   "source": [
    "nuevoDato = collection04.insert_one({\n",
    "    \"Name\": \"Coelacanth\",\n",
    "    \"Description\": \"A fish that can live for 100 years. It is said to have been around since the time of the dinosaurs.\",\n",
    "    \"Location\": \"Depths coast of eastern africa\",\n",
    "    \"Time\": \"Night\",\n",
    "    \"Season\": \"All Seasons\",\n",
    "    \"Weather\": \"Any\",\n",
    "    \"Size (inches)\": \"59-71\",\n",
    "    \"Difficulty & Behavior\": \"100 mixed\",\n",
    "    \"Base XP\": 200\n",
    "})\n",
    "\n",
    "print(\"Nuevo dato insertado con ID:\", nuevoDato.inserted_id)\n",
    "#Verificar que el nuevo dato se ha insertado correctamente"
   ]
  },
  {
   "cell_type": "code",
   "execution_count": 21,
   "id": "24d4dfc4",
   "metadata": {},
   "outputs": [
    {
     "name": "stdout",
     "output_type": "stream",
     "text": [
      "{'Base XP': 200,\n",
      " 'Description': 'A fish that can live for 100 years. It is said to have been '\n",
      "                'around since the time of the dinosaurs.',\n",
      " 'Difficulty & Behavior': '100 mixed',\n",
      " 'Location': 'Depths coast of eastern africa',\n",
      " 'Name': 'Coelacanth',\n",
      " 'Season': 'All Seasons',\n",
      " 'Size (inches)': '59-71',\n",
      " 'Time': 'Night',\n",
      " 'Weather': 'Any',\n",
      " '_id': ObjectId('685781f48cb39478e304f70a')}\n"
     ]
    }
   ],
   "source": [
    "findCoelacanth = collection04.find_one({\"Name\": \"Coelacanth\"})\n",
    "pprint(findCoelacanth)\n",
    "#Busca que el nuevo dato se ha insertado correctamente"
   ]
  },
  {
   "cell_type": "code",
   "execution_count": 24,
   "id": "fe1493b0",
   "metadata": {},
   "outputs": [],
   "source": [
    "editCoelacanth = collection04.update_one({\"Name\": \"Coelacanth\"}, {\n",
    "    \"$set\": {\"Base XP\": 250}\n",
    "})\n",
    "#Modifica el dato de Coelacanth para que tenga 250 de Base XP"
   ]
  },
  {
   "cell_type": "code",
   "execution_count": 25,
   "id": "9d002d30",
   "metadata": {},
   "outputs": [
    {
     "name": "stdout",
     "output_type": "stream",
     "text": [
      "{'Base XP': 250,\n",
      " 'Description': 'A fish that can live for 100 years. It is said to have been '\n",
      "                'around since the time of the dinosaurs.',\n",
      " 'Difficulty & Behavior': '100 mixed',\n",
      " 'Location': 'Depths coast of eastern africa',\n",
      " 'Name': 'Coelacanth',\n",
      " 'Season': 'All Seasons',\n",
      " 'Size (inches)': '59-71',\n",
      " 'Time': 'Night',\n",
      " 'Weather': 'Any',\n",
      " '_id': ObjectId('685781f48cb39478e304f70a')}\n"
     ]
    }
   ],
   "source": [
    "findCoelacanth = collection04.find_one({\"Name\": \"Coelacanth\"})\n",
    "pprint(findCoelacanth)\n",
    "#Repetimos la busqueda para ver que se ha modificado correctamente"
   ]
  },
  {
   "cell_type": "code",
   "execution_count": 26,
   "id": "7097189d",
   "metadata": {},
   "outputs": [
    {
     "name": "stdout",
     "output_type": "stream",
     "text": [
      "Se ha eliminado el dato de Coelacanth\n",
      "None\n"
     ]
    }
   ],
   "source": [
    "deleteCoelacanth = collection04.delete_one({\"Name\": \"Coelacanth\"})\n",
    "#Elimina el dato de Coelacanth  \n",
    "\n",
    "print(\"Se ha eliminado el dato de Coelacanth\")\n",
    "#Revisamos que se ha eliminado correctamente\n",
    "\n",
    "findCoelacanth = collection04.find_one({\"Name\": \"Coelacanth\"})\n",
    "pprint(findCoelacanth)\n",
    "#Repetimos la busqueda para ver que se ha eliminado correctamente"
   ]
  }
 ],
 "metadata": {
  "kernelspec": {
   "display_name": "Python 3",
   "language": "python",
   "name": "python3"
  },
  "language_info": {
   "codemirror_mode": {
    "name": "ipython",
    "version": 3
   },
   "file_extension": ".py",
   "mimetype": "text/x-python",
   "name": "python",
   "nbconvert_exporter": "python",
   "pygments_lexer": "ipython3",
   "version": "3.12.5"
  }
 },
 "nbformat": 4,
 "nbformat_minor": 5
}
